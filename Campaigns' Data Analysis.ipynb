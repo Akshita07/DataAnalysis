{
 "cells": [
  {
   "cell_type": "markdown",
   "id": "9350f3ae",
   "metadata": {},
   "source": [
    "# Campaigns' Data Analysis"
   ]
  },
  {
   "cell_type": "markdown",
   "id": "a027f017",
   "metadata": {},
   "source": [
    "This notebook presents detailed data analysis for 2 campaigns run simultaneously for the clients from 10th March to 31st March 2021. Both campaigns provided three services, namely - \n",
    "    \n",
    "    1. Cooking\n",
    "    2. Cleaning, and\n",
    "    3. Ironing\n",
    "    \n",
    "from the client's portfolio. "
   ]
  },
  {
   "cell_type": "markdown",
   "id": "2d906810",
   "metadata": {},
   "source": [
    "## Aim for the Task"
   ]
  },
  {
   "cell_type": "markdown",
   "id": "b9edc628",
   "metadata": {},
   "source": [
    "Aim for this analysis is to understand user behaviour, answer asked questions and make recommendations for helping the campaign be more effective. "
   ]
  },
  {
   "cell_type": "markdown",
   "id": "84109702",
   "metadata": {},
   "source": [
    "Let us begin!"
   ]
  },
  {
   "cell_type": "code",
   "execution_count": 1,
   "id": "aab6a458",
   "metadata": {},
   "outputs": [],
   "source": [
    "import pandas as pd\n",
    "import numpy as np"
   ]
  },
  {
   "cell_type": "code",
   "execution_count": 2,
   "id": "8bb9918f",
   "metadata": {},
   "outputs": [],
   "source": [
    "pages = pd.read_csv('pages.csv')\n",
    "events = pd.read_csv('events.csv')"
   ]
  },
  {
   "cell_type": "code",
   "execution_count": 3,
   "id": "89cdd372",
   "metadata": {},
   "outputs": [
    {
     "data": {
      "text/html": [
       "<div>\n",
       "<style scoped>\n",
       "    .dataframe tbody tr th:only-of-type {\n",
       "        vertical-align: middle;\n",
       "    }\n",
       "\n",
       "    .dataframe tbody tr th {\n",
       "        vertical-align: top;\n",
       "    }\n",
       "\n",
       "    .dataframe thead th {\n",
       "        text-align: right;\n",
       "    }\n",
       "</style>\n",
       "<table border=\"1\" class=\"dataframe\">\n",
       "  <thead>\n",
       "    <tr style=\"text-align: right;\">\n",
       "      <th></th>\n",
       "      <th>trackTime</th>\n",
       "      <th>userId</th>\n",
       "      <th>page</th>\n",
       "    </tr>\n",
       "  </thead>\n",
       "  <tbody>\n",
       "    <tr>\n",
       "      <th>0</th>\n",
       "      <td>1.615350e+09</td>\n",
       "      <td>2acefd2c-8a82-4e1d-8aff-044522455633</td>\n",
       "      <td>Campaign 2 - Landing Page</td>\n",
       "    </tr>\n",
       "    <tr>\n",
       "      <th>1</th>\n",
       "      <td>1.615350e+09</td>\n",
       "      <td>2acefd2c-8a82-4e1d-8aff-044522455633</td>\n",
       "      <td>Ironing: Learn More Page</td>\n",
       "    </tr>\n",
       "    <tr>\n",
       "      <th>2</th>\n",
       "      <td>1.615351e+09</td>\n",
       "      <td>58691bae-d6ef-4f18-be62-fe071baddf0b</td>\n",
       "      <td>Campaign 1 - Landing Page</td>\n",
       "    </tr>\n",
       "    <tr>\n",
       "      <th>3</th>\n",
       "      <td>1.615351e+09</td>\n",
       "      <td>58691bae-d6ef-4f18-be62-fe071baddf0b</td>\n",
       "      <td>Cleaning: Booking First Page</td>\n",
       "    </tr>\n",
       "    <tr>\n",
       "      <th>4</th>\n",
       "      <td>1.615351e+09</td>\n",
       "      <td>58691bae-d6ef-4f18-be62-fe071baddf0b</td>\n",
       "      <td>Home Page</td>\n",
       "    </tr>\n",
       "    <tr>\n",
       "      <th>5</th>\n",
       "      <td>1.615351e+09</td>\n",
       "      <td>c9b60a17-c808-43ad-9bfc-c57ff6c11c55</td>\n",
       "      <td>Campaign 1 - Landing Page</td>\n",
       "    </tr>\n",
       "    <tr>\n",
       "      <th>6</th>\n",
       "      <td>1.615351e+09</td>\n",
       "      <td>c9b60a17-c808-43ad-9bfc-c57ff6c11c55</td>\n",
       "      <td>Cleaning: Booking First Page</td>\n",
       "    </tr>\n",
       "    <tr>\n",
       "      <th>7</th>\n",
       "      <td>1.615351e+09</td>\n",
       "      <td>58691bae-d6ef-4f18-be62-fe071baddf0b</td>\n",
       "      <td>Services Page</td>\n",
       "    </tr>\n",
       "    <tr>\n",
       "      <th>8</th>\n",
       "      <td>1.615351e+09</td>\n",
       "      <td>c9b60a17-c808-43ad-9bfc-c57ff6c11c55</td>\n",
       "      <td>Cleaning: Booking Second Page</td>\n",
       "    </tr>\n",
       "    <tr>\n",
       "      <th>9</th>\n",
       "      <td>1.615351e+09</td>\n",
       "      <td>58691bae-d6ef-4f18-be62-fe071baddf0b</td>\n",
       "      <td>Services Page</td>\n",
       "    </tr>\n",
       "  </tbody>\n",
       "</table>\n",
       "</div>"
      ],
      "text/plain": [
       "      trackTime                                userId  \\\n",
       "0  1.615350e+09  2acefd2c-8a82-4e1d-8aff-044522455633   \n",
       "1  1.615350e+09  2acefd2c-8a82-4e1d-8aff-044522455633   \n",
       "2  1.615351e+09  58691bae-d6ef-4f18-be62-fe071baddf0b   \n",
       "3  1.615351e+09  58691bae-d6ef-4f18-be62-fe071baddf0b   \n",
       "4  1.615351e+09  58691bae-d6ef-4f18-be62-fe071baddf0b   \n",
       "5  1.615351e+09  c9b60a17-c808-43ad-9bfc-c57ff6c11c55   \n",
       "6  1.615351e+09  c9b60a17-c808-43ad-9bfc-c57ff6c11c55   \n",
       "7  1.615351e+09  58691bae-d6ef-4f18-be62-fe071baddf0b   \n",
       "8  1.615351e+09  c9b60a17-c808-43ad-9bfc-c57ff6c11c55   \n",
       "9  1.615351e+09  58691bae-d6ef-4f18-be62-fe071baddf0b   \n",
       "\n",
       "                            page  \n",
       "0      Campaign 2 - Landing Page  \n",
       "1       Ironing: Learn More Page  \n",
       "2      Campaign 1 - Landing Page  \n",
       "3   Cleaning: Booking First Page  \n",
       "4                      Home Page  \n",
       "5      Campaign 1 - Landing Page  \n",
       "6   Cleaning: Booking First Page  \n",
       "7                  Services Page  \n",
       "8  Cleaning: Booking Second Page  \n",
       "9                  Services Page  "
      ]
     },
     "execution_count": 3,
     "metadata": {},
     "output_type": "execute_result"
    }
   ],
   "source": [
    "pages.head(10)"
   ]
  },
  {
   "cell_type": "code",
   "execution_count": 4,
   "id": "c7984234",
   "metadata": {},
   "outputs": [
    {
     "data": {
      "text/plain": [
       "3373"
      ]
     },
     "execution_count": 4,
     "metadata": {},
     "output_type": "execute_result"
    }
   ],
   "source": [
    "len(pages.index)"
   ]
  },
  {
   "cell_type": "code",
   "execution_count": 5,
   "id": "a010ad99",
   "metadata": {},
   "outputs": [
    {
     "data": {
      "text/plain": [
       "trackTime    3334\n",
       "userId       3371\n",
       "page         3369\n",
       "dtype: int64"
      ]
     },
     "execution_count": 5,
     "metadata": {},
     "output_type": "execute_result"
    }
   ],
   "source": [
    "pages.count()"
   ]
  },
  {
   "cell_type": "code",
   "execution_count": 6,
   "id": "be50d6fe",
   "metadata": {},
   "outputs": [
    {
     "data": {
      "text/plain": [
       "array(['d10ad9e0-e104-4d19-8254-04eba8cefc67',\n",
       "       '6b628071-beaa-42e1-9b20-361ebbe76c77'], dtype=object)"
      ]
     },
     "execution_count": 6,
     "metadata": {},
     "output_type": "execute_result"
    }
   ],
   "source": [
    "pages[pages.trackTime.isnull()].userId.unique()"
   ]
  },
  {
   "cell_type": "code",
   "execution_count": null,
   "id": "a1902b79",
   "metadata": {},
   "outputs": [],
   "source": []
  },
  {
   "cell_type": "code",
   "execution_count": 7,
   "id": "89234f55",
   "metadata": {},
   "outputs": [
    {
     "data": {
      "text/html": [
       "<div>\n",
       "<style scoped>\n",
       "    .dataframe tbody tr th:only-of-type {\n",
       "        vertical-align: middle;\n",
       "    }\n",
       "\n",
       "    .dataframe tbody tr th {\n",
       "        vertical-align: top;\n",
       "    }\n",
       "\n",
       "    .dataframe thead th {\n",
       "        text-align: right;\n",
       "    }\n",
       "</style>\n",
       "<table border=\"1\" class=\"dataframe\">\n",
       "  <thead>\n",
       "    <tr style=\"text-align: right;\">\n",
       "      <th></th>\n",
       "      <th>trackTime</th>\n",
       "      <th>userId</th>\n",
       "      <th>event</th>\n",
       "    </tr>\n",
       "  </thead>\n",
       "  <tbody>\n",
       "    <tr>\n",
       "      <th>0</th>\n",
       "      <td>1.615350e+12</td>\n",
       "      <td>2acefd2c-8a82-4e1d-8aff-044522455633</td>\n",
       "      <td>Learn More</td>\n",
       "    </tr>\n",
       "    <tr>\n",
       "      <th>1</th>\n",
       "      <td>1.615350e+12</td>\n",
       "      <td>58691bae-d6ef-4f18-be62-fe071baddf0b</td>\n",
       "      <td>Share in WhatsApp</td>\n",
       "    </tr>\n",
       "    <tr>\n",
       "      <th>2</th>\n",
       "      <td>1.615351e+12</td>\n",
       "      <td>58691bae-d6ef-4f18-be62-fe071baddf0b</td>\n",
       "      <td>Cleaning: Book Now</td>\n",
       "    </tr>\n",
       "    <tr>\n",
       "      <th>3</th>\n",
       "      <td>1.615351e+12</td>\n",
       "      <td>58691bae-d6ef-4f18-be62-fe071baddf0b</td>\n",
       "      <td>Menu: Home</td>\n",
       "    </tr>\n",
       "    <tr>\n",
       "      <th>4</th>\n",
       "      <td>1.615351e+12</td>\n",
       "      <td>58691bae-d6ef-4f18-be62-fe071baddf0b</td>\n",
       "      <td>Address Input</td>\n",
       "    </tr>\n",
       "    <tr>\n",
       "      <th>5</th>\n",
       "      <td>1.615351e+12</td>\n",
       "      <td>c9b60a17-c808-43ad-9bfc-c57ff6c11c55</td>\n",
       "      <td>Cleaning: Book Now</td>\n",
       "    </tr>\n",
       "    <tr>\n",
       "      <th>6</th>\n",
       "      <td>1.615351e+12</td>\n",
       "      <td>c9b60a17-c808-43ad-9bfc-c57ff6c11c55</td>\n",
       "      <td>Share in WhatsApp</td>\n",
       "    </tr>\n",
       "    <tr>\n",
       "      <th>7</th>\n",
       "      <td>1.615351e+12</td>\n",
       "      <td>58691bae-d6ef-4f18-be62-fe071baddf0b</td>\n",
       "      <td>Menu: Services</td>\n",
       "    </tr>\n",
       "    <tr>\n",
       "      <th>8</th>\n",
       "      <td>1.615351e+12</td>\n",
       "      <td>58691bae-d6ef-4f18-be62-fe071baddf0b</td>\n",
       "      <td>Address Input</td>\n",
       "    </tr>\n",
       "    <tr>\n",
       "      <th>9</th>\n",
       "      <td>1.615351e+12</td>\n",
       "      <td>c9b60a17-c808-43ad-9bfc-c57ff6c11c55</td>\n",
       "      <td>Select Region: Lahore</td>\n",
       "    </tr>\n",
       "  </tbody>\n",
       "</table>\n",
       "</div>"
      ],
      "text/plain": [
       "      trackTime                                userId                  event\n",
       "0  1.615350e+12  2acefd2c-8a82-4e1d-8aff-044522455633             Learn More\n",
       "1  1.615350e+12  58691bae-d6ef-4f18-be62-fe071baddf0b      Share in WhatsApp\n",
       "2  1.615351e+12  58691bae-d6ef-4f18-be62-fe071baddf0b     Cleaning: Book Now\n",
       "3  1.615351e+12  58691bae-d6ef-4f18-be62-fe071baddf0b             Menu: Home\n",
       "4  1.615351e+12  58691bae-d6ef-4f18-be62-fe071baddf0b          Address Input\n",
       "5  1.615351e+12  c9b60a17-c808-43ad-9bfc-c57ff6c11c55     Cleaning: Book Now\n",
       "6  1.615351e+12  c9b60a17-c808-43ad-9bfc-c57ff6c11c55      Share in WhatsApp\n",
       "7  1.615351e+12  58691bae-d6ef-4f18-be62-fe071baddf0b         Menu: Services\n",
       "8  1.615351e+12  58691bae-d6ef-4f18-be62-fe071baddf0b          Address Input\n",
       "9  1.615351e+12  c9b60a17-c808-43ad-9bfc-c57ff6c11c55  Select Region: Lahore"
      ]
     },
     "execution_count": 7,
     "metadata": {},
     "output_type": "execute_result"
    }
   ],
   "source": [
    "events.head(10)"
   ]
  },
  {
   "cell_type": "code",
   "execution_count": 8,
   "id": "febf5aec",
   "metadata": {},
   "outputs": [
    {
     "data": {
      "text/plain": [
       "3094"
      ]
     },
     "execution_count": 8,
     "metadata": {},
     "output_type": "execute_result"
    }
   ],
   "source": [
    "len(events.index)"
   ]
  },
  {
   "cell_type": "code",
   "execution_count": 9,
   "id": "a5f0194c",
   "metadata": {},
   "outputs": [
    {
     "data": {
      "text/plain": [
       "trackTime    3045\n",
       "userId       3093\n",
       "event        3090\n",
       "dtype: int64"
      ]
     },
     "execution_count": 9,
     "metadata": {},
     "output_type": "execute_result"
    }
   ],
   "source": [
    "events.count()"
   ]
  },
  {
   "cell_type": "code",
   "execution_count": 10,
   "id": "e6788ada",
   "metadata": {},
   "outputs": [
    {
     "data": {
      "text/plain": [
       "array(['d10ad9e0-e104-4d19-8254-04eba8cefc67',\n",
       "       '6b628071-beaa-42e1-9b20-361ebbe76c77'], dtype=object)"
      ]
     },
     "execution_count": 10,
     "metadata": {},
     "output_type": "execute_result"
    }
   ],
   "source": [
    "events[events.trackTime.isnull()].userId.unique()"
   ]
  },
  {
   "cell_type": "code",
   "execution_count": null,
   "id": "ea3163ca",
   "metadata": {},
   "outputs": [],
   "source": []
  },
  {
   "cell_type": "code",
   "execution_count": 11,
   "id": "530cd8d7",
   "metadata": {},
   "outputs": [
    {
     "name": "stdout",
     "output_type": "stream",
     "text": [
      "Pages data types:\n",
      " trackTime    float64\n",
      "userId        object\n",
      "page          object\n",
      "dtype: object \n",
      "\n",
      " Events data types:\n",
      " trackTime    float64\n",
      "userId        object\n",
      "event         object\n",
      "dtype: object\n"
     ]
    }
   ],
   "source": [
    "print('Pages data types:\\n', pages.dtypes, '\\n\\n', 'Events data types:\\n', events.dtypes)"
   ]
  },
  {
   "cell_type": "markdown",
   "id": "898aa6eb",
   "metadata": {},
   "source": [
    "## Question: Is there any need of data preprocessing? If yes, how and why you did it?\n",
    "\n",
    "Yes, there is a need of data preprocessing for the given datasets. This need arises from the fact that some data is missing. I will handle missing data for each column separately for both pages and events.\n",
    "\n",
    "    1. userId: Drop the rows where userId column is empty because if we do not have the user id no inference about the user can be made from that data point.\n",
    "    2. page/event: Fill the missing place with a dummy value. \n",
    "    3. trackTime: Fill the missing place with the average value of the column because complete timestamps are missing for two user ids (this will be done after concatinating the datasets)"
   ]
  },
  {
   "cell_type": "code",
   "execution_count": null,
   "id": "5b5f703e",
   "metadata": {},
   "outputs": [],
   "source": []
  },
  {
   "cell_type": "markdown",
   "id": "133a7026",
   "metadata": {},
   "source": [
    "## Data Preprocessing"
   ]
  },
  {
   "cell_type": "markdown",
   "id": "4ca71e21",
   "metadata": {},
   "source": [
    "### Pages missing values handling"
   ]
  },
  {
   "cell_type": "code",
   "execution_count": 12,
   "id": "c1bbf352",
   "metadata": {},
   "outputs": [],
   "source": [
    "pages.dropna(subset = ['userId'], inplace=True)"
   ]
  },
  {
   "cell_type": "code",
   "execution_count": 13,
   "id": "af8ca85a",
   "metadata": {},
   "outputs": [],
   "source": [
    "pages['page'].fillna('Dummy page', inplace=True)"
   ]
  },
  {
   "cell_type": "code",
   "execution_count": null,
   "id": "19226359",
   "metadata": {},
   "outputs": [],
   "source": []
  },
  {
   "cell_type": "markdown",
   "id": "d3a80263",
   "metadata": {},
   "source": [
    "### Events missing values handling"
   ]
  },
  {
   "cell_type": "code",
   "execution_count": 14,
   "id": "7384cedb",
   "metadata": {},
   "outputs": [],
   "source": [
    "events.dropna(subset = ['userId'], inplace=True)"
   ]
  },
  {
   "cell_type": "code",
   "execution_count": 15,
   "id": "f62bc41b",
   "metadata": {},
   "outputs": [],
   "source": [
    "events['event'].fillna('Dummy event', inplace=True)"
   ]
  },
  {
   "cell_type": "code",
   "execution_count": null,
   "id": "2a0b5b38",
   "metadata": {},
   "outputs": [],
   "source": []
  },
  {
   "cell_type": "markdown",
   "id": "fbf76d9b",
   "metadata": {},
   "source": [
    "### Concat datasets and handle missing timestamps"
   ]
  },
  {
   "cell_type": "code",
   "execution_count": 16,
   "id": "664bcd80",
   "metadata": {},
   "outputs": [],
   "source": [
    "pages['category'] = 'page'\n",
    "events['category'] = 'event'"
   ]
  },
  {
   "cell_type": "code",
   "execution_count": 17,
   "id": "aea67fb2",
   "metadata": {},
   "outputs": [],
   "source": [
    "pages.rename(columns={'page': 'action/step'}, inplace=True)"
   ]
  },
  {
   "cell_type": "code",
   "execution_count": 18,
   "id": "9837f0df",
   "metadata": {},
   "outputs": [],
   "source": [
    "events.rename(columns={'event': 'action/step'}, inplace=True)"
   ]
  },
  {
   "cell_type": "code",
   "execution_count": null,
   "id": "e95f0316",
   "metadata": {},
   "outputs": [],
   "source": []
  },
  {
   "cell_type": "code",
   "execution_count": 19,
   "id": "4a7107a9",
   "metadata": {},
   "outputs": [],
   "source": [
    "events.trackTime = events.trackTime/1000"
   ]
  },
  {
   "cell_type": "code",
   "execution_count": null,
   "id": "104f0753",
   "metadata": {},
   "outputs": [],
   "source": []
  },
  {
   "cell_type": "code",
   "execution_count": 20,
   "id": "6b7bf59f",
   "metadata": {},
   "outputs": [],
   "source": [
    "data = pd.concat([pages, events], ignore_index=True)"
   ]
  },
  {
   "cell_type": "code",
   "execution_count": null,
   "id": "95c0a9b8",
   "metadata": {},
   "outputs": [],
   "source": []
  },
  {
   "cell_type": "code",
   "execution_count": 21,
   "id": "65ce464a",
   "metadata": {},
   "outputs": [],
   "source": [
    "data['trackTime'].fillna(np.mean(data.trackTime), inplace=True)"
   ]
  },
  {
   "cell_type": "code",
   "execution_count": 22,
   "id": "815e4ea4",
   "metadata": {},
   "outputs": [
    {
     "data": {
      "text/plain": [
       "trackTime      6464\n",
       "userId         6464\n",
       "action/step    6464\n",
       "category       6464\n",
       "dtype: int64"
      ]
     },
     "execution_count": 22,
     "metadata": {},
     "output_type": "execute_result"
    }
   ],
   "source": [
    "data.count()"
   ]
  },
  {
   "cell_type": "markdown",
   "id": "e4365504",
   "metadata": {},
   "source": [
    "### Time conversion to UTC timestamp\n",
    "\n",
    "Before moving forward, let's first add another column 'time' with UTC timestamp for better readability in both datasets."
   ]
  },
  {
   "cell_type": "code",
   "execution_count": 23,
   "id": "a9b05250",
   "metadata": {},
   "outputs": [],
   "source": [
    "from datetime import datetime"
   ]
  },
  {
   "cell_type": "code",
   "execution_count": 24,
   "id": "0cc69bc3",
   "metadata": {},
   "outputs": [],
   "source": [
    "data['time'] = data.apply(lambda row: datetime.utcfromtimestamp(row.trackTime), axis=1)"
   ]
  },
  {
   "cell_type": "code",
   "execution_count": 25,
   "id": "9a972603",
   "metadata": {},
   "outputs": [
    {
     "data": {
      "text/html": [
       "<div>\n",
       "<style scoped>\n",
       "    .dataframe tbody tr th:only-of-type {\n",
       "        vertical-align: middle;\n",
       "    }\n",
       "\n",
       "    .dataframe tbody tr th {\n",
       "        vertical-align: top;\n",
       "    }\n",
       "\n",
       "    .dataframe thead th {\n",
       "        text-align: right;\n",
       "    }\n",
       "</style>\n",
       "<table border=\"1\" class=\"dataframe\">\n",
       "  <thead>\n",
       "    <tr style=\"text-align: right;\">\n",
       "      <th></th>\n",
       "      <th>trackTime</th>\n",
       "      <th>userId</th>\n",
       "      <th>action/step</th>\n",
       "      <th>category</th>\n",
       "      <th>time</th>\n",
       "    </tr>\n",
       "  </thead>\n",
       "  <tbody>\n",
       "    <tr>\n",
       "      <th>0</th>\n",
       "      <td>1.615350e+09</td>\n",
       "      <td>2acefd2c-8a82-4e1d-8aff-044522455633</td>\n",
       "      <td>Campaign 2 - Landing Page</td>\n",
       "      <td>page</td>\n",
       "      <td>2021-03-10 04:17:25</td>\n",
       "    </tr>\n",
       "    <tr>\n",
       "      <th>1</th>\n",
       "      <td>1.615350e+09</td>\n",
       "      <td>2acefd2c-8a82-4e1d-8aff-044522455633</td>\n",
       "      <td>Ironing: Learn More Page</td>\n",
       "      <td>page</td>\n",
       "      <td>2021-03-10 04:17:30</td>\n",
       "    </tr>\n",
       "    <tr>\n",
       "      <th>2</th>\n",
       "      <td>1.615351e+09</td>\n",
       "      <td>58691bae-d6ef-4f18-be62-fe071baddf0b</td>\n",
       "      <td>Campaign 1 - Landing Page</td>\n",
       "      <td>page</td>\n",
       "      <td>2021-03-10 04:30:45</td>\n",
       "    </tr>\n",
       "    <tr>\n",
       "      <th>3</th>\n",
       "      <td>1.615351e+09</td>\n",
       "      <td>58691bae-d6ef-4f18-be62-fe071baddf0b</td>\n",
       "      <td>Cleaning: Booking First Page</td>\n",
       "      <td>page</td>\n",
       "      <td>2021-03-10 04:30:50</td>\n",
       "    </tr>\n",
       "    <tr>\n",
       "      <th>4</th>\n",
       "      <td>1.615351e+09</td>\n",
       "      <td>58691bae-d6ef-4f18-be62-fe071baddf0b</td>\n",
       "      <td>Home Page</td>\n",
       "      <td>page</td>\n",
       "      <td>2021-03-10 04:31:12</td>\n",
       "    </tr>\n",
       "    <tr>\n",
       "      <th>5</th>\n",
       "      <td>1.615351e+09</td>\n",
       "      <td>c9b60a17-c808-43ad-9bfc-c57ff6c11c55</td>\n",
       "      <td>Campaign 1 - Landing Page</td>\n",
       "      <td>page</td>\n",
       "      <td>2021-03-10 04:34:14</td>\n",
       "    </tr>\n",
       "    <tr>\n",
       "      <th>6</th>\n",
       "      <td>1.615351e+09</td>\n",
       "      <td>c9b60a17-c808-43ad-9bfc-c57ff6c11c55</td>\n",
       "      <td>Cleaning: Booking First Page</td>\n",
       "      <td>page</td>\n",
       "      <td>2021-03-10 04:34:19</td>\n",
       "    </tr>\n",
       "    <tr>\n",
       "      <th>7</th>\n",
       "      <td>1.615351e+09</td>\n",
       "      <td>58691bae-d6ef-4f18-be62-fe071baddf0b</td>\n",
       "      <td>Services Page</td>\n",
       "      <td>page</td>\n",
       "      <td>2021-03-10 04:34:45</td>\n",
       "    </tr>\n",
       "    <tr>\n",
       "      <th>8</th>\n",
       "      <td>1.615351e+09</td>\n",
       "      <td>c9b60a17-c808-43ad-9bfc-c57ff6c11c55</td>\n",
       "      <td>Cleaning: Booking Second Page</td>\n",
       "      <td>page</td>\n",
       "      <td>2021-03-10 04:35:05</td>\n",
       "    </tr>\n",
       "    <tr>\n",
       "      <th>9</th>\n",
       "      <td>1.615351e+09</td>\n",
       "      <td>58691bae-d6ef-4f18-be62-fe071baddf0b</td>\n",
       "      <td>Services Page</td>\n",
       "      <td>page</td>\n",
       "      <td>2021-03-10 04:35:08</td>\n",
       "    </tr>\n",
       "  </tbody>\n",
       "</table>\n",
       "</div>"
      ],
      "text/plain": [
       "      trackTime                                userId  \\\n",
       "0  1.615350e+09  2acefd2c-8a82-4e1d-8aff-044522455633   \n",
       "1  1.615350e+09  2acefd2c-8a82-4e1d-8aff-044522455633   \n",
       "2  1.615351e+09  58691bae-d6ef-4f18-be62-fe071baddf0b   \n",
       "3  1.615351e+09  58691bae-d6ef-4f18-be62-fe071baddf0b   \n",
       "4  1.615351e+09  58691bae-d6ef-4f18-be62-fe071baddf0b   \n",
       "5  1.615351e+09  c9b60a17-c808-43ad-9bfc-c57ff6c11c55   \n",
       "6  1.615351e+09  c9b60a17-c808-43ad-9bfc-c57ff6c11c55   \n",
       "7  1.615351e+09  58691bae-d6ef-4f18-be62-fe071baddf0b   \n",
       "8  1.615351e+09  c9b60a17-c808-43ad-9bfc-c57ff6c11c55   \n",
       "9  1.615351e+09  58691bae-d6ef-4f18-be62-fe071baddf0b   \n",
       "\n",
       "                     action/step category                time  \n",
       "0      Campaign 2 - Landing Page     page 2021-03-10 04:17:25  \n",
       "1       Ironing: Learn More Page     page 2021-03-10 04:17:30  \n",
       "2      Campaign 1 - Landing Page     page 2021-03-10 04:30:45  \n",
       "3   Cleaning: Booking First Page     page 2021-03-10 04:30:50  \n",
       "4                      Home Page     page 2021-03-10 04:31:12  \n",
       "5      Campaign 1 - Landing Page     page 2021-03-10 04:34:14  \n",
       "6   Cleaning: Booking First Page     page 2021-03-10 04:34:19  \n",
       "7                  Services Page     page 2021-03-10 04:34:45  \n",
       "8  Cleaning: Booking Second Page     page 2021-03-10 04:35:05  \n",
       "9                  Services Page     page 2021-03-10 04:35:08  "
      ]
     },
     "execution_count": 25,
     "metadata": {},
     "output_type": "execute_result"
    }
   ],
   "source": [
    "data.head(10)"
   ]
  },
  {
   "cell_type": "code",
   "execution_count": 26,
   "id": "13fabb18",
   "metadata": {},
   "outputs": [
    {
     "data": {
      "text/plain": [
       "Timestamp('2021-03-10 04:17:29.023000')"
      ]
     },
     "execution_count": 26,
     "metadata": {},
     "output_type": "execute_result"
    }
   ],
   "source": [
    "np.min(data[data.category=='event'].time)"
   ]
  },
  {
   "cell_type": "code",
   "execution_count": 27,
   "id": "ecc0124b",
   "metadata": {},
   "outputs": [
    {
     "data": {
      "text/plain": [
       "Timestamp('2021-03-31 10:16:15.885000')"
      ]
     },
     "execution_count": 27,
     "metadata": {},
     "output_type": "execute_result"
    }
   ],
   "source": [
    "np.max(data[data.category=='event'].time)"
   ]
  },
  {
   "cell_type": "markdown",
   "id": "0da35981",
   "metadata": {},
   "source": [
    "## Question: Is there any data discrepancy? If yes, please explain the situation and what course of action did you take?\n",
    "\n",
    "Yes, there is a data discrepancy. In the events.csv file trackTime column data has 12 digits each while pages.csv file trackTime column data has 9 digits each. While trying to convert the UNIX format of time to UTC timestamp, I got an error with events.csv file. Hence, I divided the trackTime data by 1000 to have only 9 significant digit before the decimal and checked the min and max time stamps after conversion. They lie in the given time frame of 10th March to 31st March 2021. Hence, we can use this data now."
   ]
  },
  {
   "cell_type": "code",
   "execution_count": null,
   "id": "57582954",
   "metadata": {},
   "outputs": [],
   "source": []
  },
  {
   "cell_type": "markdown",
   "id": "9ad365cc",
   "metadata": {},
   "source": [
    "# Data Analysis"
   ]
  },
  {
   "cell_type": "code",
   "execution_count": 28,
   "id": "5be7be27",
   "metadata": {},
   "outputs": [],
   "source": [
    "data.sort_values(['userId', 'trackTime'], inplace=True)"
   ]
  },
  {
   "cell_type": "code",
   "execution_count": 29,
   "id": "1e5eb057",
   "metadata": {},
   "outputs": [],
   "source": [
    "data.reset_index(drop=True,inplace=True)"
   ]
  },
  {
   "cell_type": "markdown",
   "id": "f87f0080",
   "metadata": {},
   "source": [
    "### Users per campaign"
   ]
  },
  {
   "cell_type": "code",
   "execution_count": null,
   "id": "9e0236ad",
   "metadata": {},
   "outputs": [],
   "source": []
  },
  {
   "cell_type": "code",
   "execution_count": 30,
   "id": "e98ca7e7",
   "metadata": {},
   "outputs": [
    {
     "name": "stdout",
     "output_type": "stream",
     "text": [
      "1052\n"
     ]
    }
   ],
   "source": [
    "total_reach = data.userId.unique().shape[0]\n",
    "print(total_reach)"
   ]
  },
  {
   "cell_type": "markdown",
   "id": "ce912aa1",
   "metadata": {},
   "source": [
    "### Total reach of the campaigns combined: 1052 users"
   ]
  },
  {
   "cell_type": "code",
   "execution_count": 31,
   "id": "259f94ed",
   "metadata": {},
   "outputs": [],
   "source": [
    "data['action/step'] = data['action/step'].astype(str)"
   ]
  },
  {
   "cell_type": "markdown",
   "id": "53eb827f",
   "metadata": {},
   "source": [
    "## Campaign 1: \n",
    "### Reach - 379\n",
    "### Impressions - 392\n",
    "### Repeated Users - 13"
   ]
  },
  {
   "cell_type": "code",
   "execution_count": 32,
   "id": "403023ee",
   "metadata": {},
   "outputs": [
    {
     "name": "stdout",
     "output_type": "stream",
     "text": [
      "379\n"
     ]
    }
   ],
   "source": [
    "index1 = [val.startswith('Campaign 1') for val in list(data['action/step'])]\n",
    "camp1_reach = data.loc[index1].userId.unique().shape[0]\n",
    "print(camp1_reach)"
   ]
  },
  {
   "cell_type": "code",
   "execution_count": 33,
   "id": "96b18ca9",
   "metadata": {},
   "outputs": [
    {
     "name": "stdout",
     "output_type": "stream",
     "text": [
      "392\n"
     ]
    }
   ],
   "source": [
    "camp1_impressions = data.loc[index1].userId.shape[0]\n",
    "print(camp1_impressions)"
   ]
  },
  {
   "cell_type": "code",
   "execution_count": 34,
   "id": "a288efac",
   "metadata": {},
   "outputs": [
    {
     "name": "stdout",
     "output_type": "stream",
     "text": [
      "13\n"
     ]
    }
   ],
   "source": [
    "repeat_camp1_users = camp1_impressions - camp1_reach\n",
    "print(repeat_camp1_users)"
   ]
  },
  {
   "cell_type": "markdown",
   "id": "81706888",
   "metadata": {},
   "source": [
    "## Campaign 2: \n",
    "### Reach - 676\n",
    "### Impressions - 720\n",
    "### Repeated Users - 44"
   ]
  },
  {
   "cell_type": "code",
   "execution_count": 35,
   "id": "321c281d",
   "metadata": {},
   "outputs": [
    {
     "name": "stdout",
     "output_type": "stream",
     "text": [
      "676\n"
     ]
    }
   ],
   "source": [
    "index2 = [val.startswith('Campaign 2') for val in list(data['action/step'])]\n",
    "camp2_reach = data.loc[index2].userId.unique().shape[0]\n",
    "print(camp2_reach)"
   ]
  },
  {
   "cell_type": "code",
   "execution_count": 36,
   "id": "737b1a2a",
   "metadata": {},
   "outputs": [
    {
     "name": "stdout",
     "output_type": "stream",
     "text": [
      "720\n"
     ]
    }
   ],
   "source": [
    "camp2_impressions = data.loc[index2].userId.shape[0]\n",
    "print(camp2_impressions)"
   ]
  },
  {
   "cell_type": "code",
   "execution_count": 37,
   "id": "b2e65a6e",
   "metadata": {},
   "outputs": [
    {
     "name": "stdout",
     "output_type": "stream",
     "text": [
      "44\n"
     ]
    }
   ],
   "source": [
    "repeat_camp2_users = camp2_impressions - camp2_reach\n",
    "print(repeat_camp2_users)"
   ]
  },
  {
   "cell_type": "markdown",
   "id": "5682b6d7",
   "metadata": {},
   "source": [
    "### Total repeat users - 57"
   ]
  },
  {
   "cell_type": "code",
   "execution_count": 38,
   "id": "2d4c9ed3",
   "metadata": {},
   "outputs": [
    {
     "name": "stdout",
     "output_type": "stream",
     "text": [
      "57\n"
     ]
    }
   ],
   "source": [
    "total_repeat = repeat_camp1_users + repeat_camp2_users\n",
    "print(total_repeat)"
   ]
  },
  {
   "cell_type": "markdown",
   "id": "d9a1cf6f",
   "metadata": {},
   "source": [
    "### Visualization"
   ]
  },
  {
   "cell_type": "code",
   "execution_count": 39,
   "id": "2594a6c7",
   "metadata": {},
   "outputs": [],
   "source": [
    "import seaborn as sns\n",
    "from matplotlib import pyplot as plt"
   ]
  },
  {
   "cell_type": "code",
   "execution_count": 40,
   "id": "16dc0078",
   "metadata": {},
   "outputs": [],
   "source": [
    "sns.set()"
   ]
  },
  {
   "cell_type": "code",
   "execution_count": 41,
   "id": "6d377b95",
   "metadata": {},
   "outputs": [
    {
     "data": {
      "image/png": "[encoded data removed]",
      "text/plain": [
       "<Figure size 432x288 with 1 Axes>"
      ]
     },
     "metadata": {},
     "output_type": "display_data"
    }
   ],
   "source": [
    "sns.countplot(x='action/step',\n",
    "              data=data[data.category=='page'],\n",
    "              order=data[data.category=='page']['action/step'].value_counts().index)\n",
    "plt.xticks(rotation=90)\n",
    "plt.show()"
   ]
  },
  {
   "cell_type": "code",
   "execution_count": 42,
   "id": "c2329946",
   "metadata": {},
   "outputs": [
    {
     "data": {
      "image/png": "[encoded data removed]",
      "text/plain": [
       "<Figure size 432x288 with 1 Axes>"
      ]
     },
     "metadata": {},
     "output_type": "display_data"
    }
   ],
   "source": [
    "sns.countplot(x='action/step',\n",
    "              data=data[data.category=='event'],\n",
    "              order=data[data.category=='event']['action/step'].value_counts().index)\n",
    "plt.xticks(rotation=90)\n",
    "plt.tight_layout()\n",
    "plt.show()"
   ]
  },
  {
   "cell_type": "code",
   "execution_count": 43,
   "id": "8af29cb8",
   "metadata": {},
   "outputs": [
    {
     "data": {
      "image/png": "[encoded data removed]",
      "text/plain": [
       "<Figure size 720x360 with 2 Axes>"
      ]
     },
     "metadata": {},
     "output_type": "display_data"
    }
   ],
   "source": [
    "fig, axes = plt.subplots(1, 2, figsize=(10, 5), sharey=True)\n",
    "fig.suptitle('Campaigns\\' Impact')\n",
    "\n",
    "\n",
    "sns.barplot(x=['Camp1', 'Camp2'], y=[camp1_reach, camp2_reach],ax=axes[0])\n",
    "axes[0].set_title('Reach')\n",
    "\n",
    "sns.barplot(x=['Camp1', 'Camp2'], y=[camp1_impressions, camp2_impressions],ax=axes[1])\n",
    "axes[1].set_title('Impressions')\n",
    "\n",
    "plt.show()"
   ]
  },
  {
   "cell_type": "code",
   "execution_count": 44,
   "id": "0da45ada",
   "metadata": {},
   "outputs": [],
   "source": [
    "fig.savefig('campaign_impact.png')"
   ]
  },
  {
   "cell_type": "markdown",
   "id": "520aa4db",
   "metadata": {},
   "source": [
    "## Completed Bookings"
   ]
  },
  {
   "cell_type": "markdown",
   "id": "39f08991",
   "metadata": {},
   "source": [
    "### Cleaning bookings"
   ]
  },
  {
   "cell_type": "code",
   "execution_count": 45,
   "id": "36ebde77",
   "metadata": {},
   "outputs": [
    {
     "name": "stdout",
     "output_type": "stream",
     "text": [
      "41\n"
     ]
    }
   ],
   "source": [
    "cleaning_bookings = len(data[data['action/step'] == 'Cleaning: Booking Successful Page'])\n",
    "print(cleaning_bookings)"
   ]
  },
  {
   "cell_type": "markdown",
   "id": "3ca21749",
   "metadata": {},
   "source": [
    "### Cooking bookings"
   ]
  },
  {
   "cell_type": "code",
   "execution_count": 46,
   "id": "55f232f0",
   "metadata": {},
   "outputs": [
    {
     "name": "stdout",
     "output_type": "stream",
     "text": [
      "29\n"
     ]
    }
   ],
   "source": [
    "cooking_bookings = len(data[data['action/step'] == 'Cooking: Booking Successful Page'])\n",
    "print(cooking_bookings)"
   ]
  },
  {
   "cell_type": "markdown",
   "id": "13ceb0c1",
   "metadata": {},
   "source": [
    "### Ironing bookings"
   ]
  },
  {
   "cell_type": "code",
   "execution_count": 47,
   "id": "149b7775",
   "metadata": {},
   "outputs": [
    {
     "name": "stdout",
     "output_type": "stream",
     "text": [
      "3\n"
     ]
    }
   ],
   "source": [
    "ironing_bookings = len(data[data['action/step'] == 'Ironing: Booking Successful Page'])\n",
    "print(ironing_bookings)"
   ]
  },
  {
   "cell_type": "markdown",
   "id": "66b68f34",
   "metadata": {},
   "source": [
    "### Total Bookings"
   ]
  },
  {
   "cell_type": "code",
   "execution_count": 48,
   "id": "f486f382",
   "metadata": {},
   "outputs": [
    {
     "name": "stdout",
     "output_type": "stream",
     "text": [
      "73\n"
     ]
    }
   ],
   "source": [
    "Total_Bookings = cleaning_bookings + cooking_bookings + ironing_bookings\n",
    "print(Total_Bookings)"
   ]
  },
  {
   "cell_type": "code",
   "execution_count": 49,
   "id": "b1b21e37",
   "metadata": {},
   "outputs": [
    {
     "name": "stdout",
     "output_type": "stream",
     "text": [
      "percentage - bookings per user:  6.939163498098859\n"
     ]
    }
   ],
   "source": [
    "num_of_bookings_per_user = Total_Bookings/total_reach \n",
    "print('percentage - bookings per user: ', num_of_bookings_per_user*100)"
   ]
  },
  {
   "cell_type": "markdown",
   "id": "8fd322fb",
   "metadata": {},
   "source": [
    "### Visualization"
   ]
  },
  {
   "cell_type": "code",
   "execution_count": 50,
   "id": "b0dd300a",
   "metadata": {},
   "outputs": [],
   "source": [
    "bookings = {'type': ['cleaning', 'cooking', 'ironing'],\n",
    "            'number of bookings': [cleaning_bookings, cooking_bookings, ironing_bookings]}\n",
    "dt = pd.DataFrame(bookings)\n",
    "dt.set_index('type', inplace=True)"
   ]
  },
  {
   "cell_type": "code",
   "execution_count": 51,
   "id": "16a90678",
   "metadata": {},
   "outputs": [
    {
     "data": {
      "image/png": "[encoded data removed]",
      "text/plain": [
       "<Figure size 432x288 with 1 Axes>"
      ]
     },
     "metadata": {},
     "output_type": "display_data"
    }
   ],
   "source": [
    "plot = dt.plot.pie(autopct=\"%.1f%%\", y='number of bookings')\n",
    "plt.show()"
   ]
  },
  {
   "cell_type": "code",
   "execution_count": 52,
   "id": "16ffc0d2",
   "metadata": {},
   "outputs": [],
   "source": [
    "fig = plot.get_figure()\n",
    "fig.savefig('bookings.png')"
   ]
  },
  {
   "cell_type": "markdown",
   "id": "ca00e2d5",
   "metadata": {},
   "source": [
    "## Question: What 3 most common action/step most users dropped at?"
   ]
  },
  {
   "cell_type": "code",
   "execution_count": 53,
   "id": "50700c19",
   "metadata": {},
   "outputs": [],
   "source": [
    "data['userId'] = data['userId'].astype(str)"
   ]
  },
  {
   "cell_type": "code",
   "execution_count": 54,
   "id": "953f48ed",
   "metadata": {},
   "outputs": [
    {
     "data": {
      "text/html": [
       "<div>\n",
       "<style scoped>\n",
       "    .dataframe tbody tr th:only-of-type {\n",
       "        vertical-align: middle;\n",
       "    }\n",
       "\n",
       "    .dataframe tbody tr th {\n",
       "        vertical-align: top;\n",
       "    }\n",
       "\n",
       "    .dataframe thead th {\n",
       "        text-align: right;\n",
       "    }\n",
       "</style>\n",
       "<table border=\"1\" class=\"dataframe\">\n",
       "  <thead>\n",
       "    <tr style=\"text-align: right;\">\n",
       "      <th></th>\n",
       "      <th>trackTime</th>\n",
       "      <th>userId</th>\n",
       "      <th>action/step</th>\n",
       "      <th>category</th>\n",
       "      <th>time</th>\n",
       "      <th>group</th>\n",
       "    </tr>\n",
       "  </thead>\n",
       "  <tbody>\n",
       "    <tr>\n",
       "      <th>0</th>\n",
       "      <td>1.616662e+09</td>\n",
       "      <td>00199b58-2875-47a6-bcc6-eeb30e7575a2</td>\n",
       "      <td>Campaign 1 - Landing Page</td>\n",
       "      <td>page</td>\n",
       "      <td>2021-03-25 08:49:29.000</td>\n",
       "      <td>1</td>\n",
       "    </tr>\n",
       "    <tr>\n",
       "      <th>1</th>\n",
       "      <td>1.616150e+09</td>\n",
       "      <td>015395a0-0401-462b-9eee-47a6c0af549a</td>\n",
       "      <td>Campaign 2 - Landing Page</td>\n",
       "      <td>page</td>\n",
       "      <td>2021-03-19 10:40:43.000</td>\n",
       "      <td>2</td>\n",
       "    </tr>\n",
       "    <tr>\n",
       "      <th>2</th>\n",
       "      <td>1.616150e+09</td>\n",
       "      <td>015395a0-0401-462b-9eee-47a6c0af549a</td>\n",
       "      <td>Cleaning: Book Now</td>\n",
       "      <td>event</td>\n",
       "      <td>2021-03-19 10:40:51.163</td>\n",
       "      <td>2</td>\n",
       "    </tr>\n",
       "    <tr>\n",
       "      <th>3</th>\n",
       "      <td>1.616150e+09</td>\n",
       "      <td>015395a0-0401-462b-9eee-47a6c0af549a</td>\n",
       "      <td>Cleaning: Booking First Page</td>\n",
       "      <td>page</td>\n",
       "      <td>2021-03-19 10:40:52.000</td>\n",
       "      <td>2</td>\n",
       "    </tr>\n",
       "    <tr>\n",
       "      <th>4</th>\n",
       "      <td>1.616150e+09</td>\n",
       "      <td>015395a0-0401-462b-9eee-47a6c0af549a</td>\n",
       "      <td>Menu: Services</td>\n",
       "      <td>event</td>\n",
       "      <td>2021-03-19 10:41:05.291</td>\n",
       "      <td>2</td>\n",
       "    </tr>\n",
       "    <tr>\n",
       "      <th>...</th>\n",
       "      <td>...</td>\n",
       "      <td>...</td>\n",
       "      <td>...</td>\n",
       "      <td>...</td>\n",
       "      <td>...</td>\n",
       "      <td>...</td>\n",
       "    </tr>\n",
       "    <tr>\n",
       "      <th>6459</th>\n",
       "      <td>1.615986e+09</td>\n",
       "      <td>ff727b75-9aff-43e2-864c-c513025456a7</td>\n",
       "      <td>Start at: 02:00 PM</td>\n",
       "      <td>event</td>\n",
       "      <td>2021-03-17 13:02:05.911</td>\n",
       "      <td>1052</td>\n",
       "    </tr>\n",
       "    <tr>\n",
       "      <th>6460</th>\n",
       "      <td>1.615986e+09</td>\n",
       "      <td>ff727b75-9aff-43e2-864c-c513025456a7</td>\n",
       "      <td>Start at: 03:00 PM</td>\n",
       "      <td>event</td>\n",
       "      <td>2021-03-17 13:02:06.376</td>\n",
       "      <td>1052</td>\n",
       "    </tr>\n",
       "    <tr>\n",
       "      <th>6461</th>\n",
       "      <td>1.615986e+09</td>\n",
       "      <td>ff727b75-9aff-43e2-864c-c513025456a7</td>\n",
       "      <td>Start at: 10:00 AM</td>\n",
       "      <td>event</td>\n",
       "      <td>2021-03-17 13:02:09.575</td>\n",
       "      <td>1052</td>\n",
       "    </tr>\n",
       "    <tr>\n",
       "      <th>6462</th>\n",
       "      <td>1.615986e+09</td>\n",
       "      <td>ff727b75-9aff-43e2-864c-c513025456a7</td>\n",
       "      <td>Booking Summary</td>\n",
       "      <td>event</td>\n",
       "      <td>2021-03-17 13:02:25.624</td>\n",
       "      <td>1052</td>\n",
       "    </tr>\n",
       "    <tr>\n",
       "      <th>6463</th>\n",
       "      <td>1.615986e+09</td>\n",
       "      <td>ff727b75-9aff-43e2-864c-c513025456a7</td>\n",
       "      <td>Cleaning: Booking Summary Page</td>\n",
       "      <td>page</td>\n",
       "      <td>2021-03-17 13:02:26.000</td>\n",
       "      <td>1052</td>\n",
       "    </tr>\n",
       "  </tbody>\n",
       "</table>\n",
       "<p>6464 rows × 6 columns</p>\n",
       "</div>"
      ],
      "text/plain": [
       "         trackTime                                userId  \\\n",
       "0     1.616662e+09  00199b58-2875-47a6-bcc6-eeb30e7575a2   \n",
       "1     1.616150e+09  015395a0-0401-462b-9eee-47a6c0af549a   \n",
       "2     1.616150e+09  015395a0-0401-462b-9eee-47a6c0af549a   \n",
       "3     1.616150e+09  015395a0-0401-462b-9eee-47a6c0af549a   \n",
       "4     1.616150e+09  015395a0-0401-462b-9eee-47a6c0af549a   \n",
       "...            ...                                   ...   \n",
       "6459  1.615986e+09  ff727b75-9aff-43e2-864c-c513025456a7   \n",
       "6460  1.615986e+09  ff727b75-9aff-43e2-864c-c513025456a7   \n",
       "6461  1.615986e+09  ff727b75-9aff-43e2-864c-c513025456a7   \n",
       "6462  1.615986e+09  ff727b75-9aff-43e2-864c-c513025456a7   \n",
       "6463  1.615986e+09  ff727b75-9aff-43e2-864c-c513025456a7   \n",
       "\n",
       "                         action/step category                    time  group  \n",
       "0          Campaign 1 - Landing Page     page 2021-03-25 08:49:29.000      1  \n",
       "1          Campaign 2 - Landing Page     page 2021-03-19 10:40:43.000      2  \n",
       "2                 Cleaning: Book Now    event 2021-03-19 10:40:51.163      2  \n",
       "3       Cleaning: Booking First Page     page 2021-03-19 10:40:52.000      2  \n",
       "4                     Menu: Services    event 2021-03-19 10:41:05.291      2  \n",
       "...                              ...      ...                     ...    ...  \n",
       "6459              Start at: 02:00 PM    event 2021-03-17 13:02:05.911   1052  \n",
       "6460              Start at: 03:00 PM    event 2021-03-17 13:02:06.376   1052  \n",
       "6461              Start at: 10:00 AM    event 2021-03-17 13:02:09.575   1052  \n",
       "6462                 Booking Summary    event 2021-03-17 13:02:25.624   1052  \n",
       "6463  Cleaning: Booking Summary Page     page 2021-03-17 13:02:26.000   1052  \n",
       "\n",
       "[6464 rows x 6 columns]"
      ]
     },
     "execution_count": 54,
     "metadata": {},
     "output_type": "execute_result"
    }
   ],
   "source": [
    "data['group'] = data['userId'].ne(data['userId'].shift()).cumsum()\n",
    "data"
   ]
  },
  {
   "cell_type": "code",
   "execution_count": 55,
   "id": "4e0f2c4e",
   "metadata": {},
   "outputs": [],
   "source": [
    "dfs = data.groupby('group')"
   ]
  },
  {
   "cell_type": "code",
   "execution_count": 56,
   "id": "92800964",
   "metadata": {},
   "outputs": [],
   "source": [
    "counts = dict()\n",
    "sub_counts1 = dict()\n",
    "sub_counts2 = dict()\n",
    "sub_counts3 = dict()\n",
    "for _, df in dfs:\n",
    "    \n",
    "    l = len(df.index)\n",
    "    key = df['action/step'].iloc[l-1]\n",
    "    if key not in counts.keys():\n",
    "        counts[key] = 1\n",
    "    else:\n",
    "        counts[key] += 1\n",
    "        if key == 'Error Page':\n",
    "            sub_key = df['action/step'].iloc[l-2]\n",
    "            if sub_key not in sub_counts1.keys():\n",
    "                sub_counts1[sub_key] = 1\n",
    "            else:\n",
    "                sub_counts1[sub_key] += 1\n",
    "        if key == 'Services Page':\n",
    "            sub_key = df['action/step'].iloc[l-2]\n",
    "            if sub_key not in sub_counts2.keys():\n",
    "                sub_counts2[sub_key] = 1\n",
    "            else:\n",
    "                sub_counts2[sub_key] += 1\n",
    "        if key == 'Home Page':\n",
    "            sub_key = df['action/step'].iloc[l-2]\n",
    "            if sub_key not in sub_counts3.keys():\n",
    "                sub_counts3[sub_key] = 1\n",
    "            else:\n",
    "                sub_counts3[sub_key] += 1"
   ]
  },
  {
   "cell_type": "code",
   "execution_count": 57,
   "id": "279a7c34",
   "metadata": {},
   "outputs": [
    {
     "data": {
      "text/plain": [
       "{'Error Page': 203,\n",
       " 'Campaign 2 - Landing Page': 189,\n",
       " 'Campaign 1 - Landing Page': 132,\n",
       " 'Services Page': 80,\n",
       " 'Home Page': 72,\n",
       " 'Cleaning: Learn More Page': 52,\n",
       " 'Contact Us Page': 37,\n",
       " 'Cleaning: Booking First Page': 37,\n",
       " 'Help Page': 35,\n",
       " 'Cooking: Learn More Page': 33,\n",
       " 'Share in WhatsApp': 30,\n",
       " 'Back': 28,\n",
       " 'Select Region: Lahore': 17,\n",
       " 'Address Input': 15,\n",
       " 'Cleaning: Booking Successful Page': 11,\n",
       " 'Ironing: Learn More Page': 10,\n",
       " 'Cooking: Booking First Page': 10,\n",
       " 'Cleaning: Booking Summary Page': 9,\n",
       " 'Select Helper: Female': 8,\n",
       " 'Select Helper: Male': 6,\n",
       " 'Select: 2 hours': 5,\n",
       " 'Enter Phone Number': 5,\n",
       " 'FAQ Page': 3,\n",
       " 'Join Us Page': 3,\n",
       " 'Select: 3 hours': 3,\n",
       " 'Ironing: Booking First Page': 3,\n",
       " 'Cooking: Booking Summary Page': 2,\n",
       " 'Ironing: Booking Successful Page': 2,\n",
       " 'Watch Now Page': 2,\n",
       " 'Explore Videos Page': 2,\n",
       " 'Select: 5 hours': 1,\n",
       " 'Cleaning: Booking Second Page': 1,\n",
       " 'Start at: 10:00 AM': 1,\n",
       " 'Menu: Home': 1,\n",
       " 'Select Region: Islamabad': 1,\n",
       " 'Booking Summary': 1,\n",
       " 'Connect on Messenger': 1,\n",
       " 'Dummy page': 1}"
      ]
     },
     "execution_count": 57,
     "metadata": {},
     "output_type": "execute_result"
    }
   ],
   "source": [
    "{k: v for k, v in sorted(counts.items(), key=lambda item: item[1], reverse=True)}"
   ]
  },
  {
   "cell_type": "markdown",
   "id": "5c5bdcd4",
   "metadata": {},
   "source": [
    "### Answer: Most users dropped because they got an error page during their journey on the platform. We can ingnore the landing pages drops because probably those users were checking out what the campaings are offering. Services page and Home page drops are next in line."
   ]
  },
  {
   "cell_type": "code",
   "execution_count": 58,
   "id": "77e3ea60",
   "metadata": {},
   "outputs": [
    {
     "data": {
      "text/plain": [
       "{'Campaign 2 - Landing Page': 150, 'Campaign 1 - Landing Page': 52}"
      ]
     },
     "execution_count": 58,
     "metadata": {},
     "output_type": "execute_result"
    }
   ],
   "source": [
    "{k: v for k, v in sorted(sub_counts1.items(), key=lambda item: item[1], reverse=True)}"
   ]
  },
  {
   "cell_type": "code",
   "execution_count": 59,
   "id": "c1774827",
   "metadata": {},
   "outputs": [
    {
     "data": {
      "text/plain": [
       "{'Menu: Services': 78, 'Home Page': 1}"
      ]
     },
     "execution_count": 59,
     "metadata": {},
     "output_type": "execute_result"
    }
   ],
   "source": [
    "{k: v for k, v in sorted(sub_counts2.items(), key=lambda item: item[1], reverse=True)}"
   ]
  },
  {
   "cell_type": "code",
   "execution_count": 60,
   "id": "c674d918",
   "metadata": {},
   "outputs": [
    {
     "data": {
      "text/plain": [
       "{'Menu: Home': 71}"
      ]
     },
     "execution_count": 60,
     "metadata": {},
     "output_type": "execute_result"
    }
   ],
   "source": [
    "{k: v for k, v in sorted(sub_counts3.items(), key=lambda item: item[1], reverse=True)}"
   ]
  },
  {
   "cell_type": "code",
   "execution_count": null,
   "id": "8b318aa5",
   "metadata": {},
   "outputs": [],
   "source": []
  },
  {
   "cell_type": "markdown",
   "id": "3d215ccb",
   "metadata": {},
   "source": [
    "## Question: What is the total time spent by the users on the platform? What is the average time spent by each user? On which campaign users spent more time?"
   ]
  },
  {
   "cell_type": "code",
   "execution_count": 61,
   "id": "22665456",
   "metadata": {},
   "outputs": [
    {
     "name": "stdout",
     "output_type": "stream",
     "text": [
      "1 1\n",
      "1 1\n",
      "2 1\n",
      "1 1\n",
      "0 0\n"
     ]
    }
   ],
   "source": [
    "total_time = 0\n",
    "camp1 = 0\n",
    "camp2 = 0\n",
    "for _, df in dfs:\n",
    "    l = len(df.index)\n",
    "    if l != 1:\n",
    "        diff = df['time'].iloc[l-1] - df['time'].iloc[0]\n",
    "        \n",
    "        ind1 = sum([val1.startswith('Campaign 1') for val1 in list(df['action/step'])])\n",
    "        ind2 = sum([val2.startswith('Campaign 2') for val2 in list(df['action/step'])])\n",
    "    \n",
    "        if ind1 != 0 and ind2 == 0:\n",
    "            camp1 = camp1 + diff.total_seconds()\n",
    "            total_time += diff.total_seconds()\n",
    "        elif ind2 != 0 and ind1 == 0:\n",
    "            camp2 = camp2 + diff.total_seconds()\n",
    "            total_time += diff.total_seconds()\n",
    "        else:\n",
    "            print(ind1, ind2)"
   ]
  },
  {
   "cell_type": "code",
   "execution_count": 62,
   "id": "cc4eb62b",
   "metadata": {},
   "outputs": [
    {
     "data": {
      "text/plain": [
       "21.475154999999987"
      ]
     },
     "execution_count": 62,
     "metadata": {},
     "output_type": "execute_result"
    }
   ],
   "source": [
    "total_time = total_time/60/60\n",
    "total_time"
   ]
  },
  {
   "cell_type": "code",
   "execution_count": 63,
   "id": "2f42c918",
   "metadata": {},
   "outputs": [
    {
     "data": {
      "text/plain": [
       "1.230667908309455"
      ]
     },
     "execution_count": 63,
     "metadata": {},
     "output_type": "execute_result"
    }
   ],
   "source": [
    "total_time*60/(total_reach-5)"
   ]
  },
  {
   "cell_type": "code",
   "execution_count": 64,
   "id": "d46eeb08",
   "metadata": {},
   "outputs": [
    {
     "data": {
      "text/plain": [
       "6.519143055555556"
      ]
     },
     "execution_count": 64,
     "metadata": {},
     "output_type": "execute_result"
    }
   ],
   "source": [
    "camp1 = camp1/60/60\n",
    "camp1"
   ]
  },
  {
   "cell_type": "code",
   "execution_count": 65,
   "id": "f905e01d",
   "metadata": {},
   "outputs": [
    {
     "data": {
      "text/plain": [
       "14.956011944444441"
      ]
     },
     "execution_count": 65,
     "metadata": {},
     "output_type": "execute_result"
    }
   ],
   "source": [
    "camp2 = camp2/60/60\n",
    "camp2"
   ]
  },
  {
   "cell_type": "markdown",
   "id": "47373017",
   "metadata": {},
   "source": [
    "#### Total time spent on the platform: 21 hrs 30 mins "
   ]
  },
  {
   "cell_type": "markdown",
   "id": "5538f926",
   "metadata": {},
   "source": [
    "#### Time spent on campaign 1: 6 hrs 30 mins"
   ]
  },
  {
   "cell_type": "markdown",
   "id": "597f3f4e",
   "metadata": {},
   "source": [
    "#### Time spent on campaign 2: 15 hrs"
   ]
  },
  {
   "cell_type": "markdown",
   "id": "b2377b94",
   "metadata": {},
   "source": [
    "### Users spent more time on Campaign 2. Average time spent by each user is 1 min 14 seconds"
   ]
  },
  {
   "cell_type": "code",
   "execution_count": null,
   "id": "664e7eda",
   "metadata": {},
   "outputs": [],
   "source": []
  },
  {
   "cell_type": "markdown",
   "id": "a916c1d3",
   "metadata": {},
   "source": [
    "# Recommendations "
   ]
  },
  {
   "cell_type": "markdown",
   "id": "e5992565",
   "metadata": {},
   "source": [
    "Based on the data analysis, I have following recommendations:\n",
    "\n",
    "1. Campaign 2 is more successful. If a choice needs to be made for where to put in more resources then, I would recommend to focus more on this campaign. Users spent double the time on this campaign as compared to the other one.\n",
    "2. Most users dropped because they saw an error page just after landing on campaigns. Probably an investigation is needed on technical side regarding why an error page occurs after a user lands on any campaign.\n",
    "3. Menu bar to 'Home' and 'Services' should be removed. Many of the users are dropping off the platform after going to these. Probably they are not able to find their way back to the bookings pages."
   ]
  },
  {
   "cell_type": "code",
   "execution_count": null,
   "id": "c9054856",
   "metadata": {},
   "outputs": [],
   "source": []
  }
 ],
 "metadata": {
  "kernelspec": {
   "display_name": "Python 3 (ipykernel)",
   "language": "python",
   "name": "python3"
  },
  "language_info": {
   "codemirror_mode": {
    "name": "ipython",
    "version": 3
   },
   "file_extension": ".py",
   "mimetype": "text/x-python",
   "name": "python",
   "nbconvert_exporter": "python",
   "pygments_lexer": "ipython3",
   "version": "3.9.6"
  }
 },
 "nbformat": 4,
 "nbformat_minor": 5
}
